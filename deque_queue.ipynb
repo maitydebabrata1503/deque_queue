{
 "cells": [
  {
   "cell_type": "code",
   "execution_count": 1,
   "id": "992eb286-f4ed-4bcd-a91c-9351380456d0",
   "metadata": {},
   "outputs": [],
   "source": [
    "set1=set(range(10))"
   ]
  },
  {
   "cell_type": "code",
   "execution_count": 2,
   "id": "11ab4ae4-8aae-44e4-b64b-b584c5d82278",
   "metadata": {},
   "outputs": [],
   "source": [
    "set2=set(range(4,15))"
   ]
  },
  {
   "cell_type": "code",
   "execution_count": 3,
   "id": "81735420-8ff0-451f-9e03-871af9ebf238",
   "metadata": {},
   "outputs": [
    {
     "data": {
      "text/plain": [
       "{4, 5, 6, 7, 8, 9}"
      ]
     },
     "execution_count": 3,
     "metadata": {},
     "output_type": "execute_result"
    }
   ],
   "source": [
    "set1&set2"
   ]
  },
  {
   "cell_type": "code",
   "execution_count": 4,
   "id": "894237c8-4bb0-4d38-ab6c-8e8687eeaf5f",
   "metadata": {},
   "outputs": [
    {
     "data": {
      "text/plain": [
       "{0, 1, 2, 3, 4, 5, 6, 7, 8, 9, 10, 11, 12, 13, 14}"
      ]
     },
     "execution_count": 4,
     "metadata": {},
     "output_type": "execute_result"
    }
   ],
   "source": [
    "set1|set2"
   ]
  },
  {
   "cell_type": "code",
   "execution_count": 5,
   "id": "2a208e14-27c8-4295-b081-8b06f7ded0f0",
   "metadata": {},
   "outputs": [
    {
     "data": {
      "text/plain": [
       "{0, 1, 2, 3}"
      ]
     },
     "execution_count": 5,
     "metadata": {},
     "output_type": "execute_result"
    }
   ],
   "source": [
    "set1-set2"
   ]
  },
  {
   "cell_type": "code",
   "execution_count": 6,
   "id": "6a919666-f21b-4f67-beb8-d66d0dbd5c72",
   "metadata": {},
   "outputs": [
    {
     "data": {
      "text/plain": [
       "{0, 1, 2, 3, 10, 11, 12, 13, 14}"
      ]
     },
     "execution_count": 6,
     "metadata": {},
     "output_type": "execute_result"
    }
   ],
   "source": [
    "set1^set2"
   ]
  },
  {
   "cell_type": "code",
   "execution_count": 7,
   "id": "13773695-44a7-4a1a-bac9-43899813f898",
   "metadata": {},
   "outputs": [],
   "source": [
    "set1.update(\"19\")"
   ]
  },
  {
   "cell_type": "code",
   "execution_count": 8,
   "id": "f900d4dd-02da-4c96-992b-86a009251456",
   "metadata": {},
   "outputs": [
    {
     "data": {
      "text/plain": [
       "{0, 1, '1', 2, 3, 4, 5, 6, 7, 8, 9, '9'}"
      ]
     },
     "execution_count": 8,
     "metadata": {},
     "output_type": "execute_result"
    }
   ],
   "source": [
    "set1"
   ]
  },
  {
   "cell_type": "code",
   "execution_count": 9,
   "id": "a24db8ee-ac3b-4e14-bfc5-6b2f2619a869",
   "metadata": {},
   "outputs": [],
   "source": [
    "set1.discard(10)"
   ]
  },
  {
   "cell_type": "code",
   "execution_count": 10,
   "id": "f2046b9c-27b8-48ad-96e3-7be741aba039",
   "metadata": {},
   "outputs": [
    {
     "data": {
      "text/plain": [
       "{0, 1, '1', 10, 2, 3, 4, 5, 6, 7, 8, 9, '9'}"
      ]
     },
     "execution_count": 10,
     "metadata": {},
     "output_type": "execute_result"
    }
   ],
   "source": [
    "set1.add(10)\n",
    "set1"
   ]
  },
  {
   "cell_type": "code",
   "execution_count": 11,
   "id": "9e71bff8-9f5d-4f26-9ae7-c854cd7369f8",
   "metadata": {},
   "outputs": [],
   "source": [
    "thisdict = dict(\n",
    "  brand = \"Ford\",\n",
    "  model = \"Mustang\",\n",
    "  year = 1964\n",
    "    )\n",
    "thatdict = dict(name = \"John\", age = 36, country = \"Norway\")"
   ]
  },
  {
   "cell_type": "code",
   "execution_count": 12,
   "id": "3c9cf4d5-d947-41e9-b7b0-e20d3ccd453c",
   "metadata": {},
   "outputs": [
    {
     "data": {
      "text/plain": [
       "dict_items([('brand', 'Ford'), ('model', 'Mustang'), ('year', 1964)])"
      ]
     },
     "execution_count": 12,
     "metadata": {},
     "output_type": "execute_result"
    }
   ],
   "source": [
    "thisdict.items()"
   ]
  },
  {
   "cell_type": "code",
   "execution_count": 13,
   "id": "6d8cebfa-cd6d-465f-a9d9-4b2155e9b171",
   "metadata": {},
   "outputs": [],
   "source": [
    "thisdict=thisdict.fromkeys(('dob','01/05/2003'),('state','west bengal'))"
   ]
  },
  {
   "cell_type": "code",
   "execution_count": 14,
   "id": "bd071e81-c8ee-4f66-a89b-ccef10ff3712",
   "metadata": {},
   "outputs": [
    {
     "data": {
      "text/plain": [
       "{'dob': ('state', 'west bengal'),\n",
       " '01/05/2003': ('state', 'west bengal'),\n",
       " 'name': 'John',\n",
       " 'age': 36,\n",
       " 'country': 'Norway'}"
      ]
     },
     "execution_count": 14,
     "metadata": {},
     "output_type": "execute_result"
    }
   ],
   "source": [
    "thisdict.update(thatdict)\n",
    "thisdict"
   ]
  },
  {
   "cell_type": "code",
   "execution_count": 15,
   "id": "77cba5d4-a045-4ff8-829b-543c0cb7c555",
   "metadata": {},
   "outputs": [
    {
     "data": {
      "text/plain": [
       "{'dob': 'John', '01/05/2003': 36, 'name': 'Norway'}"
      ]
     },
     "execution_count": 15,
     "metadata": {},
     "output_type": "execute_result"
    }
   ],
   "source": [
    "#dictionary comprehension\n",
    "{key:value for key,value in zip(thisdict.keys(),thatdict.values())}"
   ]
  },
  {
   "cell_type": "code",
   "execution_count": 16,
   "id": "a1bbe7f3-77e6-4a94-9861-fffeee2b38c2",
   "metadata": {},
   "outputs": [
    {
     "data": {
      "text/plain": [
       "frozenset({16, 17, 18, 19, 20, 21, 22, 23, 24})"
      ]
     },
     "execution_count": 16,
     "metadata": {},
     "output_type": "execute_result"
    }
   ],
   "source": [
    "#frozen set\n",
    "set3=frozenset(range(16,25))\n",
    "set3"
   ]
  },
  {
   "cell_type": "code",
   "execution_count": 17,
   "id": "0aff69da-2541-48b5-a080-c210ec472f88",
   "metadata": {},
   "outputs": [
    {
     "ename": "AttributeError",
     "evalue": "'frozenset' object has no attribute 'add'",
     "output_type": "error",
     "traceback": [
      "\u001b[0;31m---------------------------------------------------------------------------\u001b[0m",
      "\u001b[0;31mAttributeError\u001b[0m                            Traceback (most recent call last)",
      "Cell \u001b[0;32mIn[17], line 1\u001b[0m\n\u001b[0;32m----> 1\u001b[0m \u001b[43mset3\u001b[49m\u001b[38;5;241;43m.\u001b[39;49m\u001b[43madd\u001b[49m(\u001b[38;5;241m25\u001b[39m)\n",
      "\u001b[0;31mAttributeError\u001b[0m: 'frozenset' object has no attribute 'add'"
     ]
    }
   ],
   "source": [
    "set3.add(25)"
   ]
  },
  {
   "cell_type": "code",
   "execution_count": 18,
   "id": "46d5dd3b-dbae-4096-a3b4-26e80915ff84",
   "metadata": {},
   "outputs": [],
   "source": [
    "from collections import deque\n",
    "deque_array=deque()\n",
    "for i in range(4):\n",
    "    deque_array.append(i)"
   ]
  },
  {
   "cell_type": "code",
   "execution_count": 19,
   "id": "5b711ebe-ea51-448c-afa6-f2382a8c38d6",
   "metadata": {},
   "outputs": [
    {
     "name": "stdout",
     "output_type": "stream",
     "text": [
      "served 0\n",
      "served 1\n",
      "served 2\n",
      "served 3\n"
     ]
    }
   ],
   "source": [
    "while deque_array:\n",
    "    print(\"served\",deque_array.popleft())"
   ]
  },
  {
   "cell_type": "code",
   "execution_count": 20,
   "id": "f65da916-6826-430b-9249-49aba207f888",
   "metadata": {},
   "outputs": [],
   "source": [
    "from queue import Queue\n",
    "que_array=Queue()\n",
    "for i in range(4):\n",
    "    que_array.put(i)"
   ]
  },
  {
   "cell_type": "code",
   "execution_count": 22,
   "id": "ba6f8352-44cd-43fe-86a7-1be132445fc2",
   "metadata": {},
   "outputs": [
    {
     "name": "stdout",
     "output_type": "stream",
     "text": [
      "served 0\n",
      "served 1\n",
      "served 2\n",
      "served 3\n"
     ]
    }
   ],
   "source": [
    "while not que_array.empty():\n",
    "    print(\"served\",que_array.get())"
   ]
  },
  {
   "cell_type": "code",
   "execution_count": null,
   "id": "ca64f01b-876d-4784-816d-6d5ffe25f879",
   "metadata": {},
   "outputs": [],
   "source": []
  }
 ],
 "metadata": {
  "kernelspec": {
   "display_name": "Python 3 (ipykernel)",
   "language": "python",
   "name": "python3"
  },
  "language_info": {
   "codemirror_mode": {
    "name": "ipython",
    "version": 3
   },
   "file_extension": ".py",
   "mimetype": "text/x-python",
   "name": "python",
   "nbconvert_exporter": "python",
   "pygments_lexer": "ipython3",
   "version": "3.10.8"
  }
 },
 "nbformat": 4,
 "nbformat_minor": 5
}
